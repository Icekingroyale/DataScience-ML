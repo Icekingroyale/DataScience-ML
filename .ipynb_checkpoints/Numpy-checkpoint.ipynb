{
 "cells": [
  {
   "cell_type": "markdown",
   "id": "3275fbb0",
   "metadata": {},
   "source": [
    "# python for DATA Science"
   ]
  },
  {
   "cell_type": "markdown",
   "id": "c9e15eba",
   "metadata": {},
   "source": [
    "## NumPy (numerical python)"
   ]
  },
  {
   "cell_type": "markdown",
   "id": "0c04b402",
   "metadata": {},
   "source": [
    "### numpy arrays"
   ]
  },
  {
   "cell_type": "code",
   "execution_count": 1,
   "id": "53b35e1a",
   "metadata": {},
   "outputs": [],
   "source": [
    "#importing the library\n",
    "import numpy as np\n",
    "\n"
   ]
  },
  {
   "cell_type": "code",
   "execution_count": 2,
   "id": "c023fb82",
   "metadata": {},
   "outputs": [
    {
     "name": "stdout",
     "output_type": "stream",
     "text": [
      "[1 2 3 4 5]\n",
      "1\n"
     ]
    }
   ],
   "source": [
    "#creating a 1 dimension array\n",
    "oneDArray = np.array([1,2,3,4,5]) #.array creates a numpy array which is special because of it's various inbuilt functions\n",
    "print(oneDArray)\n",
    "print(oneDArray.ndim) #this checks the dimension of the array"
   ]
  },
  {
   "cell_type": "code",
   "execution_count": 8,
   "id": "6d156fc4",
   "metadata": {},
   "outputs": [],
   "source": [
    "#checking the use & application of the '.array' attribute in numpy library\n",
    "help('array')\n",
    "\n",
    "#getting the documentation of the 'ndim' attrubute\n",
    "help(np.ndarray.ndim)\n",
    "\n",
    "#displaying all the function in the numpy library\n",
    "dir(np)\n"
   ]
  },
  {
   "cell_type": "code",
   "execution_count": 40,
   "id": "46c87ce2",
   "metadata": {},
   "outputs": [
    {
     "name": "stdout",
     "output_type": "stream",
     "text": [
      "[[1 2 3]\n",
      " [4 5 6]]\n",
      "2\n"
     ]
    }
   ],
   "source": [
    "#creating a 2D array\n",
    "twoDArray = np.array([[1,2,3],[4,5,6]])\n",
    "print(twoDArray)\n",
    "print(twoDArray.ndim)"
   ]
  },
  {
   "cell_type": "code",
   "execution_count": 34,
   "id": "192a6f22",
   "metadata": {},
   "outputs": [
    {
     "name": "stdout",
     "output_type": "stream",
     "text": [
      "[[[ 1  2  3]\n",
      "  [-1 -2 -3]]\n",
      "\n",
      " [[ 4  5  6]\n",
      "  [-4 -5 -6]]]\n",
      "3\n"
     ]
    }
   ],
   "source": [
    "#creating a 3D array\n",
    "threeDArray = np.array([[[1,2,3],[-1,-2,-3]],[[4,5,6],[-4,-5,-6]]])\n",
    "print(threeDArray)\n",
    "print(threeDArray.ndim)"
   ]
  },
  {
   "cell_type": "markdown",
   "id": "68ace76b",
   "metadata": {},
   "source": [
    "### indexing numpy arrays"
   ]
  },
  {
   "cell_type": "code",
   "execution_count": 6,
   "id": "9a0ec539",
   "metadata": {},
   "outputs": [
    {
     "name": "stdout",
     "output_type": "stream",
     "text": [
      " the index of the fourth element is 4\n"
     ]
    }
   ],
   "source": [
    "oneDArray = np.array([1,2,3,4,5])\n",
    "print(f' the index of the fourth element is {oneDArray[3]}')#regular array indexing\n",
    "?oneDArray"
   ]
  },
  {
   "cell_type": "code",
   "execution_count": 3,
   "id": "bd38b30b",
   "metadata": {},
   "outputs": [
    {
     "name": "stdout",
     "output_type": "stream",
     "text": [
      " the value of the index in the first array is [4 5 6]\n",
      " the value of the index in the first element of the second array is [4]\n"
     ]
    }
   ],
   "source": [
    "twoDArray = np.array([[1,2,3],[4,5,6]])\n",
    "print(f' the value of the index in the first array is {twoDArray[1]}')#printing the first array\n",
    "print(f' the value of the index in the first element of the second array is [{twoDArray[1,0]}]')#first element in the second array\n"
   ]
  },
  {
   "cell_type": "code",
   "execution_count": 9,
   "id": "994fbf60",
   "metadata": {},
   "outputs": [
    {
     "name": "stdout",
     "output_type": "stream",
     "text": [
      " the index of the second element of the third array is [5]\n"
     ]
    }
   ],
   "source": [
    "threeDArray = np.array([[[1,2,3],[-1,-2,-3]],[[4,5,6],[-4,-5,-6]]])\n",
    "# [1,0,1]: 1 is the index of the second array of the two 2D arrays that make up a 3D array\n",
    "# 0 is the index of the first array of the 2D arrays [array,array|[array],array]\n",
    "# 1 is the index of the target element \"5\" within this complex array\n",
    "print(f' the index of the second element of the third array is [{threeDArray[1,0,1]}]')\n"
   ]
  },
  {
   "cell_type": "markdown",
   "id": "873acc92",
   "metadata": {},
   "source": [
    "### array shape"
   ]
  },
  {
   "cell_type": "code",
   "execution_count": 86,
   "id": "89577407",
   "metadata": {},
   "outputs": [
    {
     "name": "stdout",
     "output_type": "stream",
     "text": [
      "[[1 2 3]\n",
      " [4 5 6]]\n",
      "(2, 3)\n"
     ]
    }
   ],
   "source": [
    "twoDArray = np.array([[1,2,3],[4,5,6]])\n",
    "print(twoDArray) \n",
    "print(twoDArray.shape)\n",
    "# 2 = ndim, 3 = n elements in each dim ie 2 rows & 3 colums"
   ]
  },
  {
   "cell_type": "code",
   "execution_count": 98,
   "id": "2c66061f",
   "metadata": {},
   "outputs": [
    {
     "name": "stdout",
     "output_type": "stream",
     "text": [
      "[[ 1  2  3  4]\n",
      " [ 5  6  7  8]\n",
      " [ 9 10 11 12]]\n",
      "\n",
      "this is reshaped version of the array \n",
      "\n",
      "[ 1  2  3  4  5  6  7  8  9 10 11 12]\n"
     ]
    },
    {
     "data": {
      "text/plain": [
       "(3, 4)"
      ]
     },
     "execution_count": 98,
     "metadata": {},
     "output_type": "execute_result"
    }
   ],
   "source": [
    "#reshaping an array\n",
    "oneD = np.array([1,2,3,4,5,6,7,8,9,10,11,12])\n",
    "twoD = oneD.reshape(3,4)\n",
    "print(f\"{twoD}\\n\\nthis is reshaped version of the array \\n\\n{oneD}\")\n",
    "#this converts the 1dim np1 array to a 3rows x 4colums 2dim np2 array\n",
    "twoD.shape #this confirms the new shape"
   ]
  },
  {
   "cell_type": "code",
   "execution_count": 103,
   "id": "d9768a03",
   "metadata": {},
   "outputs": [],
   "source": [
    "help(np.ndarray.shape) #gets the .shape documentation\n",
    "help(np.ndarray.reshape) #gets the .reshape documentaton"
   ]
  },
  {
   "cell_type": "code",
   "execution_count": 108,
   "id": "1ed72a47",
   "metadata": {},
   "outputs": [
    {
     "name": "stdout",
     "output_type": "stream",
     "text": [
      "[ 1  2  3  4  5  6  7  8  9 10 11 12]\n",
      "\n",
      "this is the flattened version of the initial multi-dimensional array\n",
      "\n",
      " [[ 1  2  3  4]\n",
      " [ 5  6  7  8]\n",
      " [ 9 10 11 12]]\n"
     ]
    }
   ],
   "source": [
    "#flattening a multi-dimensional array\n",
    "flatA = twoD.reshape(-1)\n",
    "print(f\"{flatA}\\n\\nthis is the flattened version of the initial multi-dimensional array\\n\\n {twoD}\")"
   ]
  },
  {
   "cell_type": "code",
   "execution_count": 119,
   "id": "2366d28c",
   "metadata": {},
   "outputs": [
    {
     "name": "stdout",
     "output_type": "stream",
     "text": [
      "[[ 1  2  3  4  5]\n",
      " [ 6  7  8  9 10]]\n",
      "\n",
      "this is the flattened/reshaped version\n",
      "[ 1  2  3  4  5  6  7  8  9 10]\n"
     ]
    }
   ],
   "source": [
    "multiDarray = np.array([[1,2,3,4,5],[6,7,8,9,10]])\n",
    "print(multiDarray)\n",
    "oneDarray = multiDarray.reshape(-1)\n",
    "print(\"\\nthis is the flattened/reshaped version\")\n",
    "print(oneDarray)"
   ]
  },
  {
   "cell_type": "markdown",
   "id": "93070186",
   "metadata": {},
   "source": [
    "### iterating over numpy arrays"
   ]
  },
  {
   "cell_type": "code",
   "execution_count": 31,
   "id": "313ec279",
   "metadata": {},
   "outputs": [
    {
     "name": "stdout",
     "output_type": "stream",
     "text": [
      "1\n",
      "2\n",
      "3\n",
      "4\n",
      "5\n",
      "6\n"
     ]
    }
   ],
   "source": [
    "twoDArray = np.array([[1,2,3],[4,5,6]])\n",
    "for i in twoDArray: #iterates over each element of the 2d array \n",
    "    for j in i: #iterates over each element of the 1d arry\n",
    "        print(j)"
   ]
  },
  {
   "cell_type": "code",
   "execution_count": 42,
   "id": "69e4012d",
   "metadata": {},
   "outputs": [
    {
     "name": "stdout",
     "output_type": "stream",
     "text": [
      "1\n",
      "2\n",
      "3\n",
      "-1\n",
      "-2\n",
      "-3\n",
      "4\n",
      "5\n",
      "6\n",
      "-4\n",
      "-5\n",
      "-6\n"
     ]
    }
   ],
   "source": [
    "threeDArray = np.array([[[1,2,3],[-1,-2,-3]],[[4,5,6],[-4,-5,-6]]])\n",
    "for i in threeDArray: #iterates and prints each of the 2 2d array (outermost array)\n",
    "    for j in i: #iterates and prints each of the 4 1d array (inner array)\n",
    "        for k in j: #iterates and prints each element of the elements in the array.\n",
    "            print(k)"
   ]
  },
  {
   "cell_type": "markdown",
   "id": "b4ae81cd",
   "metadata": {},
   "source": [
    "### mathematical fuctions"
   ]
  },
  {
   "cell_type": "code",
   "execution_count": 7,
   "id": "f1ee5063",
   "metadata": {},
   "outputs": [
    {
     "name": "stdout",
     "output_type": "stream",
     "text": [
      "[0. 0. 0. 0.]\n",
      "<class 'numpy.ndarray'>\n"
     ]
    }
   ],
   "source": [
    "zerosArray = np.zeros(4)\n",
    "print(zerosArray)\n",
    "# help(np.zeros)  #this is important if you want to quickly create an array in numpy\n",
    "print(type(zerosArray))"
   ]
  },
  {
   "cell_type": "code",
   "execution_count": 15,
   "id": "74b18c78",
   "metadata": {},
   "outputs": [
    {
     "name": "stdout",
     "output_type": "stream",
     "text": [
      "['0' '0' '0' '0']\n"
     ]
    }
   ],
   "source": [
    "zerosArray = zerosArray.astype(int) \n",
    "print(zerosArray)\n",
    "# help(zerosArray.astype) #used ot cast arrays in numpy in this case,\n",
    "# changed zeroArray from float to int... see (.) after each 0"
   ]
  },
  {
   "cell_type": "code",
   "execution_count": 54,
   "id": "4a11388f",
   "metadata": {},
   "outputs": [
    {
     "name": "stdout",
     "output_type": "stream",
     "text": [
      "[0 0 0 0 0]\n",
      "[0.+0.j 0.+0.j 0.+0.j 0.+0.j 0.+0.j]\n"
     ]
    }
   ],
   "source": [
    "# you can create this array and set the datatype in one line like this;\n",
    "zerosInt = np.zeros(5,int)\n",
    "zerosComplex = np.zeros(5,complex)\n",
    "print(zerosArray)\n",
    "print(zerosComplex)"
   ]
  },
  {
   "cell_type": "code",
   "execution_count": 73,
   "id": "9b3ebf42",
   "metadata": {},
   "outputs": [
    {
     "name": "stdout",
     "output_type": "stream",
     "text": [
      "[[[1 1]\n",
      "  [1 1]\n",
      "  [1 1]]\n",
      "\n",
      " [[1 1]\n",
      "  [1 1]\n",
      "  [1 1]]\n",
      "\n",
      " [[1 1]\n",
      "  [1 1]\n",
      "  [1 1]]\n",
      "\n",
      " [[1 1]\n",
      "  [1 1]\n",
      "  [1 1]]]\n",
      "<class 'numpy.ndarray'>\n",
      "3\n",
      "(4, 3, 2)\n"
     ]
    }
   ],
   "source": [
    "onesArray = np.ones((4,3,2),int) \n",
    "# as you can see, in addition to setting the datatype, you can equally set the dimension\n",
    "# The array has 4 blocks, 3 rows in each block, and 2 columns in each row\n",
    "# simply put it is a 4element 3Darray filled with 1s  \n",
    "\n",
    "print(onesArray)\n",
    "print(type(onesArray))\n",
    "print(onesArray.ndim)\n",
    "print(onesArray.shape)"
   ]
  },
  {
   "cell_type": "code",
   "execution_count": 81,
   "id": "d307ac3f",
   "metadata": {},
   "outputs": [
    {
     "name": "stdout",
     "output_type": "stream",
     "text": [
      "[5 5 5]\n"
     ]
    }
   ],
   "source": [
    "fullArray = np.full(3,5)\n",
    "print(fullArray)\n",
    "#.full(n,num) is used when you want initialize an array with values other than 0 or 1"
   ]
  },
  {
   "cell_type": "markdown",
   "id": "6136da81",
   "metadata": {},
   "source": [
    "#### Scalar Operations with Numpy"
   ]
  },
  {
   "cell_type": "code",
   "execution_count": 3,
   "id": "f2d2e164",
   "metadata": {},
   "outputs": [
    {
     "name": "stdout",
     "output_type": "stream",
     "text": [
      "[[3 4 5]\n",
      " [6 7 8]]\n"
     ]
    }
   ],
   "source": [
    "matrix = np.array([[1,2,3],[4,5,6]])\n",
    "print(matrix + 2) #doing this with a python list triggers an error"
   ]
  },
  {
   "cell_type": "code",
   "execution_count": 6,
   "id": "188f77a5",
   "metadata": {},
   "outputs": [
    {
     "name": "stdout",
     "output_type": "stream",
     "text": [
      "[[-1  0  1]\n",
      " [ 2  3  4]]\n"
     ]
    }
   ],
   "source": [
    "matrix = np.array([[1,2,3],[4,5,6]])\n",
    "print(matrix - 2 )"
   ]
  },
  {
   "cell_type": "code",
   "execution_count": 5,
   "id": "d873db22",
   "metadata": {},
   "outputs": [
    {
     "name": "stdout",
     "output_type": "stream",
     "text": [
      "[[ 2  4  6]\n",
      " [ 8 10 12]]\n"
     ]
    }
   ],
   "source": [
    "matrix = np.array([[1,2,3],[4,5,6]])\n",
    "print(matrix * 2)"
   ]
  },
  {
   "cell_type": "code",
   "execution_count": 8,
   "id": "3dcc24c7",
   "metadata": {},
   "outputs": [
    {
     "name": "stdout",
     "output_type": "stream",
     "text": [
      "[[0.5 1.  1.5]\n",
      " [2.  2.5 3. ]]\n"
     ]
    }
   ],
   "source": [
    "matrix = np.array([[1,2,3],[4,5,6]])\n",
    "print(matrix / 2)"
   ]
  },
  {
   "cell_type": "code",
   "execution_count": 11,
   "id": "5962ee3a",
   "metadata": {},
   "outputs": [
    {
     "name": "stdout",
     "output_type": "stream",
     "text": [
      "[[ 1  4  9]\n",
      " [16 25 36]]\n"
     ]
    }
   ],
   "source": [
    "matrix = np.array([[1,2,3],[4,5,6]])\n",
    "print(matrix ** 2)"
   ]
  },
  {
   "cell_type": "code",
   "execution_count": 19,
   "id": "d434dee9",
   "metadata": {},
   "outputs": [
    {
     "name": "stdout",
     "output_type": "stream",
     "text": [
      "[[1 4]\n",
      " [2 5]\n",
      " [3 6]]\n"
     ]
    }
   ],
   "source": [
    "#TRANSPOSE OF A NUMPY ARRAY\n",
    "matrix = np.array([[1,2,3],[4,5,6]])\n",
    "print(matrix.T)\n",
    "# help(np.ndarray.T)"
   ]
  },
  {
   "cell_type": "markdown",
   "id": "da1de6a8",
   "metadata": {},
   "source": [
    "#### Element-wise Operations"
   ]
  },
  {
   "cell_type": "code",
   "execution_count": 21,
   "id": "99d4f420",
   "metadata": {},
   "outputs": [
    {
     "name": "stdout",
     "output_type": "stream",
     "text": [
      "[[0 0 0]\n",
      " [0 0 0]]\n"
     ]
    }
   ],
   "source": [
    "#ADDITION\n",
    "#this is simply an operation on the individual elements of the array\n",
    "matrix1 = np.array([[1,2,3],[4,5,6]])\n",
    "matrix2 = np.array([[-1,-2,-3],[-4,-5,-6]])\n",
    "print(matrix1 + matrix2)"
   ]
  },
  {
   "cell_type": "code",
   "execution_count": 23,
   "id": "3268d939",
   "metadata": {},
   "outputs": [
    {
     "name": "stdout",
     "output_type": "stream",
     "text": [
      "[[ 2  4  6]\n",
      " [ 8 10 12]]\n"
     ]
    }
   ],
   "source": [
    "#SUBTRACTION\n",
    "matrix1 = np.array([[1,2,3],[4,5,6]])\n",
    "matrix2 = np.array([[-1,-2,-3],[-4,-5,-6]])\n",
    "print(matrix1 - matrix2)\n"
   ]
  },
  {
   "cell_type": "code",
   "execution_count": 26,
   "id": "9ecedbfa",
   "metadata": {},
   "outputs": [
    {
     "name": "stdout",
     "output_type": "stream",
     "text": [
      "[[ -1  -4  -9]\n",
      " [-16 -25 -36]]\n"
     ]
    }
   ],
   "source": [
    "#MULTIPLICATION\n",
    "matrix1 = np.array([[1,2,3],[4,5,6]])\n",
    "matrix2 = np.array([[-1,-2,-3],[-4,-5,-6]])\n",
    "print(matrix1 * matrix2)"
   ]
  },
  {
   "cell_type": "code",
   "execution_count": 35,
   "id": "2e05c8cc",
   "metadata": {},
   "outputs": [
    {
     "name": "stdout",
     "output_type": "stream",
     "text": [
      "[[-1. -1. -1.]\n",
      " [-1. -1. -1.]]\n",
      "[[-1 -1 -1]\n",
      " [-1 -1 -1]]\n"
     ]
    }
   ],
   "source": [
    "#DIVISION\n",
    "matrix1 = np.array([[1,2,3],[4,5,6]])\n",
    "matrix2 = np.array([[-1,-2,-3],[-4,-5,-6]])\n",
    "print(matrix1 / matrix2) #prints float\n",
    "print(matrix1 // matrix2) #prints int\n"
   ]
  },
  {
   "cell_type": "code",
   "execution_count": 37,
   "id": "c385ea3d",
   "metadata": {},
   "outputs": [
    {
     "data": {
      "text/plain": [
       "array([[ -9, -12, -15],\n",
       "       [-24, -33, -42],\n",
       "       [  0,   0,   0]])"
      ]
     },
     "execution_count": 37,
     "metadata": {},
     "output_type": "execute_result"
    }
   ],
   "source": [
    "# MATRIX MULTIPLICATION\n",
    "matrix1 = np.array([[1,2,3],[4,5,6],[0,0,0]])\n",
    "matrix2 = np.array([[-1,-2,-3],[-4,-5,-6],[0,0,0]])\n",
    "np.matmul(matrix1,matrix2)"
   ]
  },
  {
   "cell_type": "markdown",
   "id": "4bcc122a",
   "metadata": {},
   "source": [
    "#### statistics "
   ]
  },
  {
   "cell_type": "code",
   "execution_count": 39,
   "id": "93a25d15",
   "metadata": {},
   "outputs": [
    {
     "name": "stdout",
     "output_type": "stream",
     "text": [
      "[[1 2 3]\n",
      " [4 5 6]]\n"
     ]
    },
    {
     "data": {
      "text/plain": [
       "1"
      ]
     },
     "execution_count": 39,
     "metadata": {},
     "output_type": "execute_result"
    }
   ],
   "source": [
    "# .min()\n",
    "matrix1 = np.array([[1,2,3],[4,5,6]])\n",
    "print(matrix1)\n",
    "np.min(matrix1)"
   ]
  },
  {
   "cell_type": "code",
   "execution_count": 42,
   "id": "0b041254",
   "metadata": {},
   "outputs": [
    {
     "data": {
      "text/plain": [
       "6"
      ]
     },
     "execution_count": 42,
     "metadata": {},
     "output_type": "execute_result"
    }
   ],
   "source": [
    "# .max()\n",
    "matrix1 = np.array([[1,2,3],[4,5,6]])\n",
    "np.max(matrix1)"
   ]
  },
  {
   "cell_type": "code",
   "execution_count": 43,
   "id": "0efcc50a",
   "metadata": {},
   "outputs": [
    {
     "data": {
      "text/plain": [
       "21"
      ]
     },
     "execution_count": 43,
     "metadata": {},
     "output_type": "execute_result"
    }
   ],
   "source": [
    "# .sum()\n",
    "matrix1 = np.array([[1,2,3],[4,5,6]])\n",
    "np.sum(matrix1)"
   ]
  },
  {
   "cell_type": "code",
   "execution_count": 45,
   "id": "fbc7f1e3",
   "metadata": {},
   "outputs": [
    {
     "data": {
      "text/plain": [
       "1.707825127659933"
      ]
     },
     "execution_count": 45,
     "metadata": {},
     "output_type": "execute_result"
    }
   ],
   "source": [
    "# .std()  standard deviation\n",
    "matrix1 = np.array([[1,2,3],[4,5,6]])\n",
    "np.std(matrix1)"
   ]
  },
  {
   "cell_type": "code",
   "execution_count": 49,
   "id": "97a6d3dd",
   "metadata": {},
   "outputs": [
    {
     "data": {
      "text/plain": [
       "3.5"
      ]
     },
     "execution_count": 49,
     "metadata": {},
     "output_type": "execute_result"
    }
   ],
   "source": [
    "# .mean()\n",
    "matrix1 = np.array([[1,2,3],[4,5,6]])\n",
    "np.mean(matrix1)"
   ]
  },
  {
   "cell_type": "code",
   "execution_count": 47,
   "id": "ea6e68db",
   "metadata": {},
   "outputs": [
    {
     "data": {
      "text/plain": [
       "3.5"
      ]
     },
     "execution_count": 47,
     "metadata": {},
     "output_type": "execute_result"
    }
   ],
   "source": [
    "# .median()\n",
    "matrix1 = np.array([[1,2,3],[4,5,6]])\n",
    "np.median(matrix1)"
   ]
  },
  {
   "cell_type": "markdown",
   "id": "2a283aad",
   "metadata": {},
   "source": [
    "## numpy projects\n",
    "### 1"
   ]
  },
  {
   "cell_type": "code",
   "execution_count": 50,
   "id": "62b11ede",
   "metadata": {},
   "outputs": [
    {
     "name": "stdout",
     "output_type": "stream",
     "text": [
      "Average Score: 72.54\n",
      "Maximum Score: 100\n",
      "Minimum Score: 50\n",
      "Number of students scoring above 80: 16\n",
      "Scores of students scoring above 80: [ 94  97  89 100  86  88  89  96  87  97  85  99  89  82  82  81]\n"
     ]
    }
   ],
   "source": [
    "# 1. Analyze a dataset of 50 students exam scores to find average, maximum, minimum scores.\n",
    "# Identify number of students who scored above 80\n",
    "\n",
    "import numpy as np\n",
    "\n",
    "# Step 1: Generate sample data\n",
    "np.random.seed(0)  # For reproducibility\n",
    "scores = np.random.randint(50, 101, size=50)  # Random scores between 50 and 100 for \"size=50\" students\n",
    "\n",
    "# Step 2: Calculate basic statistics\n",
    "average_score = np.mean(scores)\n",
    "max_score = np.max(scores)\n",
    "min_score = np.min(scores)\n",
    "\n",
    "print(f\"Average Score: {average_score:.2f}\")\n",
    "print(f\"Maximum Score: {max_score}\")\n",
    "print(f\"Minimum Score: {min_score}\")\n",
    "\n",
    "# Step 3: Identify high scorers\n",
    "high_scorers = scores[scores > 80]\n",
    "num_high_scorers = len(high_scorers)\n",
    "\n",
    "print(f\"Number of students scoring above 80: {num_high_scorers}\")\n",
    "print(f\"Scores of students scoring above 80: {high_scorers}\")\n"
   ]
  },
  {
   "cell_type": "code",
   "execution_count": 55,
   "id": "d11a8ec1",
   "metadata": {},
   "outputs": [],
   "source": [
    "# HELP DOCUMENTATION\n",
    "# help(np.random.seed)"
   ]
  },
  {
   "cell_type": "code",
   "execution_count": 54,
   "id": "3a5ca91a",
   "metadata": {},
   "outputs": [],
   "source": [
    "# help(np.random.randint)"
   ]
  },
  {
   "cell_type": "markdown",
   "id": "411aefdc",
   "metadata": {},
   "source": [
    "### 2"
   ]
  },
  {
   "cell_type": "code",
   "execution_count": 56,
   "id": "1dd4a1b6",
   "metadata": {},
   "outputs": [],
   "source": [
    "# Tasks:\n",
    "# Create a NumPy array containing the temperature readings (in Celsius) for each day of a week (7 days).\n",
    "# Convert these temperature readings to Fahrenheit.\n",
    "# Calculate and print the following statistics:\n",
    "# Average temperature for the week in Celsius and Fahrenheit.\n",
    "# The highest and lowest temperature for the week in Celsius and Fahrenheit.\n",
    "# Identify and print the number of days with temperatures above the average temperature in Celsius."
   ]
  },
  {
   "cell_type": "code",
   "execution_count": 4,
   "id": "3c30ca99",
   "metadata": {},
   "outputs": [
    {
     "name": "stdout",
     "output_type": "stream",
     "text": [
      " the average temperature in ^C is 27.714285714285715\n",
      " the average temperature in ^F is 81.88571428571429 \n",
      "\n",
      " the highest and lowest temperature in ^C of the week a re 23 and 34 respectively\n",
      " the highest and lowest temperature in ^F of the week are 73.4 and 93.2 respectively \n",
      "\n",
      "we have 4 days with temperature above average temp which is 27.714285714285715 \n",
      "\n",
      "we have the day with value as 34 as a day with temperature above average in ^C\n",
      "we have the day with value as 28 as a day with temperature above average in ^C\n",
      "we have the day with value as 33 as a day with temperature above average in ^C\n",
      "we have the day with value as 29 as a day with temperature above average in ^C\n"
     ]
    }
   ],
   "source": [
    "import numpy as np\n",
    "\n",
    "temp_readingsC = np.array([23,34,28,24,23,33,29]) #creating daily temperatures in celsius\n",
    "temp_readingsF = (temp_readingsC * 9/5) + 32 # converting temperatures to fahrenheit\n",
    "\n",
    "avg_tempC = np.mean(temp_readingsC) #average temperature in celsius\n",
    "avg_tempf = np.mean(temp_readingsF) #average temperature in fahrenheit\n",
    "\n",
    "print(f' the average temperature in ^C is {avg_tempC}')\n",
    "print(f' the average temperature in ^F is {avg_tempf} \\n')\n",
    "\n",
    "highest_tempC = np.min(temp_readingsC) #lowest temperature in C\n",
    "lowest_tempC = np.max(temp_readingsC) #highest temperature in C\n",
    "print(f' the highest and lowest temperature in ^C of the week a re {highest_tempC} and {lowest_tempC} respectively')\n",
    "\n",
    "highest_tempF = np.min(temp_readingsF) #lowest temperature in F\n",
    "lowest_tempF = np.max(temp_readingsF) #highest temperature in F\n",
    "print(f' the highest and lowest temperature in ^F of the week are {highest_tempF} and {lowest_tempF} respectively \\n')\n",
    "\n",
    "days_temp_above_avgC = np.sum(temp_readingsC > avg_tempC)\n",
    "print(f'we have {days_temp_above_avgC} days with temperature above average temp which is {avg_tempC} \\n')\n",
    "\n",
    "for i in temp_readingsC:\n",
    "    if i > avg_tempC:\n",
    "        print(f'we have the day with value as {i} as a day with temperature above average in ^C')\n",
    "    "
   ]
  }
 ],
 "metadata": {
  "kernelspec": {
   "display_name": "Python 3 (ipykernel)",
   "language": "python",
   "name": "python3"
  },
  "language_info": {
   "codemirror_mode": {
    "name": "ipython",
    "version": 3
   },
   "file_extension": ".py",
   "mimetype": "text/x-python",
   "name": "python",
   "nbconvert_exporter": "python",
   "pygments_lexer": "ipython3",
   "version": "3.11.5"
  }
 },
 "nbformat": 4,
 "nbformat_minor": 5
}
